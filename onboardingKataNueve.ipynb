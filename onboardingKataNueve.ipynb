{
 "cells": [
  {
   "cell_type": "markdown",
   "metadata": {},
   "source": [
    "# Ejercicio 1: Uso de funciones en Python"
   ]
  },
  {
   "cell_type": "code",
   "execution_count": 51,
   "metadata": {},
   "outputs": [],
   "source": [
    "# Función para leer 3 tanques de combustible y muestre el promedio\n",
    "def informe(t1, t2, t3):\n",
    "    avg = (t1+t2+t3) / 3\n",
    "    return f\"\"\"Reporte de combustible:\n",
    "    Promedio: {avg}%\n",
    "    Tanque 1: {t1}%\n",
    "    Tanque 2: {t2}%\n",
    "    Tanque 3: {t3}% \n",
    "    \"\"\"\n",
    "    "
   ]
  },
  {
   "cell_type": "code",
   "execution_count": 52,
   "metadata": {},
   "outputs": [
    {
     "name": "stdout",
     "output_type": "stream",
     "text": [
      "Reporte de combustible:\n",
      "    Promedio: 45.0%\n",
      "    Tanque 1: 23%\n",
      "    Tanque 2: 45%\n",
      "    Tanque 3: 67% \n",
      "    \n"
     ]
    }
   ],
   "source": [
    "print(informe(23, 45, 67))"
   ]
  },
  {
   "cell_type": "code",
   "execution_count": 53,
   "metadata": {},
   "outputs": [],
   "source": [
    "# Función promedio \n",
    "def inf_promedio(lista):\n",
    "    total = sum(lista)\n",
    "    cantidad = len(lista)\n",
    "    return round(total / cantidad, 3)\n"
   ]
  },
  {
   "cell_type": "code",
   "execution_count": 54,
   "metadata": {},
   "outputs": [
    {
     "data": {
      "text/plain": [
       "55.667"
      ]
     },
     "execution_count": 54,
     "metadata": {},
     "output_type": "execute_result"
    }
   ],
   "source": [
    "# Llamar a la función promedio\n",
    "inf_promedio([34, 55, 78])"
   ]
  },
  {
   "cell_type": "code",
   "execution_count": 55,
   "metadata": {},
   "outputs": [],
   "source": [
    "# Actualizar funcion informe con la de promedio\n",
    "def informe(t1, t2, t3):\n",
    "    #avg = (t1+t2+t3) / 3\n",
    "    return f\"\"\"Reporte de combustible:\n",
    "    Promedio: {inf_promedio([t1, t2, t3])}%\n",
    "    Tanque 1: {t1}%\n",
    "    Tanque 2: {t2}%\n",
    "    Tanque 3: {t3}% \n",
    "    \"\"\""
   ]
  },
  {
   "cell_type": "code",
   "execution_count": 56,
   "metadata": {},
   "outputs": [
    {
     "name": "stdout",
     "output_type": "stream",
     "text": [
      "Reporte de combustible:\n",
      "    Promedio: 59.333%\n",
      "    Tanque 1: 55%\n",
      "    Tanque 2: 46%\n",
      "    Tanque 3: 77% \n",
      "    \n"
     ]
    }
   ],
   "source": [
    "# llamar a la nueva función\n",
    "print(informe(55, 46, 77))"
   ]
  },
  {
   "cell_type": "markdown",
   "metadata": {},
   "source": [
    "# Ejercicio 2: Trabajo con argumentos de palabra clave"
   ]
  },
  {
   "cell_type": "code",
   "execution_count": 57,
   "metadata": {},
   "outputs": [
    {
     "name": "stdout",
     "output_type": "stream",
     "text": [
      "\n",
      "    Destino: La Luna\n",
      "    Tiempo del viaje: 65 minutos\n",
      "    Niveles de combustible: 500000 galones\n",
      "    \n"
     ]
    }
   ],
   "source": [
    "# Función con un informe preciso de la misión. Considera hora de prelanzamiento, tiempo de vuelo, destino, tanque externo y tanque interno\n",
    "def informe_mision(pl_time, f_time, destination, ext_tank, main_tank):\n",
    "    return f\"\"\"\n",
    "    Destino: {destination}\n",
    "    Tiempo del viaje: {pl_time + f_time} minutos\n",
    "    Niveles de combustible: {ext_tank + main_tank} galones\n",
    "    \"\"\"\n",
    "\n",
    "print(informe_mision(14, 51, \"La Luna\", 200000, 300000))"
   ]
  },
  {
   "cell_type": "code",
   "execution_count": 58,
   "metadata": {},
   "outputs": [
    {
     "name": "stdout",
     "output_type": "stream",
     "text": [
      "\n",
      "    Destino: La Luna\n",
      "    Tiempo del viaje: 105 minutos\n",
      "    Niveles de combustible: 500000\n",
      "    \n"
     ]
    }
   ],
   "source": [
    "# Adaptar para minutos adicionales o tanques adicionales de combustible\n",
    "# Escribe tu nueva función de reporte considerando lo anterior\n",
    "def informe_mision_2(destination, *min, **t_adicional):\n",
    "    return f\"\"\"\n",
    "    Destino: {destination}\n",
    "    Tiempo del viaje: {sum(min)} minutos\n",
    "    Niveles de combustible: {sum(t_adicional.values())}\n",
    "    \"\"\"\n",
    "\n",
    "print(informe_mision_2(\"La Luna\", 15, 25, 65, t_prin = 300000, t_ext = 200000))"
   ]
  },
  {
   "cell_type": "code",
   "execution_count": 59,
   "metadata": {},
   "outputs": [
    {
     "name": "stdout",
     "output_type": "stream",
     "text": [
      "\n",
      "    Destino: La Luna\n",
      "    Tiempo del viaje: 105 minutos\n",
      "    Niveles de combustible: 660000\n",
      "    tanque_1: Restan 455000 galones\n",
      "tanque_ext: Restan 205000 galones\n",
      "\n"
     ]
    }
   ],
   "source": [
    "# Usa el nombre de cada tanque en el informe\n",
    "# Escribe tu nueva función\n",
    "def informe_mision_3(destination, *min, **t_adicional):\n",
    "    inf = f\"\"\"\n",
    "    Destino: {destination}\n",
    "    Tiempo del viaje: {sum(min)} minutos\n",
    "    Niveles de combustible: {sum(t_adicional.values())}\n",
    "    \"\"\"\n",
    "    for n_tanque, gal in t_adicional.items():\n",
    "        inf += f\"{n_tanque}: Restan {gal} galones\\n\"\n",
    "    return inf\n",
    "\n",
    "print(informe_mision_3(\"La Luna\", 15, 25, 65, tanque_1 = 455000, tanque_ext = 205000))"
   ]
  }
 ],
 "metadata": {
  "interpreter": {
   "hash": "987cbd703dfba44d9b85abc3dca62ccaba18865537b5bf4fce303cb64e6f6229"
  },
  "kernelspec": {
   "display_name": "Python 3.9.10 64-bit (windows store)",
   "language": "python",
   "name": "python3"
  },
  "language_info": {
   "codemirror_mode": {
    "name": "ipython",
    "version": 3
   },
   "file_extension": ".py",
   "mimetype": "text/x-python",
   "name": "python",
   "nbconvert_exporter": "python",
   "pygments_lexer": "ipython3",
   "version": "3.9.10"
  },
  "orig_nbformat": 4
 },
 "nbformat": 4,
 "nbformat_minor": 2
}
